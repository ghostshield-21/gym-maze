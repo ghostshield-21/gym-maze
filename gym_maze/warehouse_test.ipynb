{
 "cells": [
  {
   "cell_type": "code",
   "execution_count": 1,
   "metadata": {},
   "outputs": [
    {
     "name": "stdout",
     "output_type": "stream",
     "text": [
      "pygame 1.9.6\n",
      "Hello from the pygame community. https://www.pygame.org/contribute.html\n"
     ]
    }
   ],
   "source": [
    "import sys\n",
    "import numpy as np\n",
    "import math\n",
    "import random\n",
    "\n",
    "import gym\n",
    "from envs.maze_view_2d import MazeView2D\n",
    "import envs.maze_env"
   ]
  },
  {
   "cell_type": "code",
   "execution_count": 2,
   "metadata": {},
   "outputs": [],
   "source": [
    "new_maze = np.array([\n",
    "    [6,14,14,14,14,14,14,14,14,14,14,14,14,14,14,14,14,12],\n",
    "    [7,15,10,10,10,10,10,10,10,10,10,10,10,10,10,10,15,13],\n",
    "    [7,5,0,0,7,13,0,0,7,5,0,0,7,5,0,0,5,13],\n",
    "    [7,5,0,0,7,13,0,0,7,5,0,0,7,5,0,0,5,13],\n",
    "    [7,5,0,0,7,13,0,0,7,5,0,0,7,5,0,0,5,13],\n",
    "    [7,5,0,0,7,13,0,0,7,5,0,0,7,5,0,0,5,13],\n",
    "    [7,5,0,0,7,13,0,0,7,5,0,0,7,5,0,0,5,13],\n",
    "    [7,5,0,0,7,13,0,0,7,5,0,0,7,5,0,0,5,13],\n",
    "    [7,5,10,10,15,15,10,10,15,15,10,10,15,15,10,10,5,13],\n",
    "    [7,5,10,10,15,15,10,10,15,15,10,10,15,15,10,10,5,13],\n",
    "    [7,5,0,0,7,13,0,0,7,5,0,0,7,5,0,0,5,13],\n",
    "    [7,5,0,0,7,13,0,0,7,5,0,0,7,5,0,0,5,13],\n",
    "    [7,5,0,0,7,13,0,0,7,5,0,0,7,5,0,0,5,13],\n",
    "    [7,5,0,0,7,13,0,0,7,5,0,0,7,5,0,0,5,13],\n",
    "    [7,5,0,0,7,13,0,0,7,5,0,0,7,5,0,0,5,13],\n",
    "    [7,5,0,0,7,13,0,0,7,5,0,0,7,5,0,0,5,13],\n",
    "    [7,15,10,10,10,10,10,10,10,10,10,10,10,10,10,10,15,13],\n",
    "    [3,11,11,11,11,11,11,11,11,11,11,11,11,11,11,11,11,9],\n",
    "])\n",
    "#np.save('./maze_warehouse',new_maze.T)"
   ]
  },
  {
   "cell_type": "code",
   "execution_count": 2,
   "metadata": {},
   "outputs": [
    {
     "name": "stdout",
     "output_type": "stream",
     "text": [
      "((15, 1), (13, 7), (5, 6), (16, 6))\n",
      "test self.num_picks =  4\n"
     ]
    }
   ],
   "source": [
    "maze = MazeView2D(screen_size= (500, 500), maze_file_path='D:/notebooks/MMAI 845/gym-maze/gym_maze/envs/maze_samples/maze_warehouse.npy', num_portals=0, has_loops=False , num_picks=4 )\n",
    "maze.reset_robot()\n",
    "log = maze.update()"
   ]
  },
  {
   "cell_type": "code",
   "execution_count": 3,
   "metadata": {},
   "outputs": [],
   "source": [
    "maze.move_robot('S')\n",
    "log = maze.update()"
   ]
  },
  {
   "cell_type": "code",
   "execution_count": 22,
   "metadata": {},
   "outputs": [],
   "source": [
    "maze.move_robot('E')\n",
    "log = maze.update()"
   ]
  },
  {
   "cell_type": "code",
   "execution_count": 24,
   "metadata": {},
   "outputs": [
    {
     "data": {
      "text/plain": [
       "{(15, 1): <envs.maze_view_2d.Pick at 0x1db75cf27c8>,\n",
       " (13, 7): <envs.maze_view_2d.Pick at 0x1db75cf27c8>,\n",
       " (5, 6): <envs.maze_view_2d.Pick at 0x1db75cf27c8>,\n",
       " (16, 6): <envs.maze_view_2d.Pick at 0x1db75cf27c8>}"
      ]
     },
     "execution_count": 24,
     "metadata": {},
     "output_type": "execute_result"
    }
   ],
   "source": [
    "picks = maze.maze.get_pick_all()\n",
    "picks"
   ]
  },
  {
   "cell_type": "code",
   "execution_count": 3,
   "metadata": {},
   "outputs": [
    {
     "name": "stdout",
     "output_type": "stream",
     "text": [
      "((13, 12), (9, 13))\n",
      "test self.num_picks\n"
     ]
    },
    {
     "ename": "SystemExit",
     "evalue": "",
     "output_type": "error",
     "traceback": [
      "An exception has occurred, use %tb to see the full traceback.\n",
      "\u001b[1;31mSystemExit\u001b[0m\n"
     ]
    },
    {
     "name": "stderr",
     "output_type": "stream",
     "text": [
      "d:\\anaconda\\envs\\gym-final\\lib\\site-packages\\IPython\\core\\interactiveshell.py:3465: UserWarning: To exit: use 'exit', 'quit', or Ctrl-D.\n",
      "  warn(\"To exit: use 'exit', 'quit', or Ctrl-D.\", stacklevel=1)\n"
     ]
    }
   ],
   "source": [
    "import sys\n",
    "import numpy as np\n",
    "import math\n",
    "import random\n",
    "\n",
    "import gym\n",
    "import gym_maze\n",
    "\n",
    "\n",
    "def simulate():\n",
    "\n",
    "    # Instantiating the learning related parameters\n",
    "    learning_rate = get_learning_rate(0)\n",
    "    explore_rate = get_explore_rate(0)\n",
    "    discount_factor = 0.99\n",
    "\n",
    "    num_streaks = 0\n",
    "\n",
    "    # Render tha maze\n",
    "    env.render()\n",
    "\n",
    "    for episode in range(NUM_EPISODES):\n",
    "\n",
    "        # Reset the environment\n",
    "        obv = env.reset()\n",
    "\n",
    "        # the initial state\n",
    "        state_0 = state_to_bucket(obv)\n",
    "        total_reward = 0\n",
    "\n",
    "        for t in range(MAX_T):\n",
    "\n",
    "            # Select an action\n",
    "            action = select_action(state_0, explore_rate)\n",
    "\n",
    "            # execute the action\n",
    "            obv, reward, done, _ = env.step(action)\n",
    "\n",
    "            # Observe the result\n",
    "            state = state_to_bucket(obv)\n",
    "            total_reward += reward\n",
    "\n",
    "            # Update the Q based on the result\n",
    "            best_q = np.amax(q_table[state])\n",
    "            q_table[state_0 + (action,)] += learning_rate * (reward + discount_factor * (best_q) - q_table[state_0 + (action,)])\n",
    "\n",
    "            # Setting up for the next iteration\n",
    "            state_0 = state\n",
    "\n",
    "            # Print data\n",
    "            if DEBUG_MODE == 2:\n",
    "                print(\"\\nEpisode = %d\" % episode)\n",
    "                print(\"t = %d\" % t)\n",
    "                print(\"Action: %d\" % action)\n",
    "                print(\"State: %s\" % str(state))\n",
    "                print(\"Reward: %f\" % reward)\n",
    "                print(\"Best Q: %f\" % best_q)\n",
    "                print(\"Explore rate: %f\" % explore_rate)\n",
    "                print(\"Learning rate: %f\" % learning_rate)\n",
    "                print(\"Streaks: %d\" % num_streaks)\n",
    "                print(\"\")\n",
    "\n",
    "            elif DEBUG_MODE == 1:\n",
    "                if done or t >= MAX_T - 1:\n",
    "                    print(\"\\nEpisode = %d\" % episode)\n",
    "                    print(\"t = %d\" % t)\n",
    "                    print(\"Explore rate: %f\" % explore_rate)\n",
    "                    print(\"Learning rate: %f\" % learning_rate)\n",
    "                    print(\"Streaks: %d\" % num_streaks)\n",
    "                    print(\"Total reward: %f\" % total_reward)\n",
    "                    print(\"\")\n",
    "\n",
    "            # Render tha maze\n",
    "            if RENDER_MAZE:\n",
    "                env.render()\n",
    "\n",
    "            if env.is_game_over():\n",
    "                sys.exit()\n",
    "\n",
    "            if done:\n",
    "                print(\"Episode %d finished after %f time steps with total reward = %f (streak %d).\"\n",
    "                      % (episode, t, total_reward, num_streaks))\n",
    "\n",
    "                if t <= SOLVED_T:\n",
    "                    num_streaks += 1\n",
    "                else:\n",
    "                    num_streaks = 0\n",
    "                break\n",
    "\n",
    "            elif t >= MAX_T - 1:\n",
    "                print(\"Episode %d timed out at %d with total reward = %f.\"\n",
    "                      % (episode, t, total_reward))\n",
    "\n",
    "        # It's considered done when it's solved over 120 times consecutively\n",
    "        if num_streaks > STREAK_TO_END:\n",
    "            break\n",
    "\n",
    "        # Update parameters\n",
    "        explore_rate = get_explore_rate(episode)\n",
    "        learning_rate = get_learning_rate(episode)\n",
    "\n",
    "\n",
    "def select_action(state, explore_rate):\n",
    "    # Select a random action\n",
    "    if random.random() < explore_rate:\n",
    "        action = env.action_space.sample()\n",
    "    # Select the action with the highest q\n",
    "    else:\n",
    "        action = int(np.argmax(q_table[state]))\n",
    "    return action\n",
    "\n",
    "\n",
    "def get_explore_rate(t):\n",
    "    return max(MIN_EXPLORE_RATE, min(0.8, 1.0 - math.log10((t+1)/DECAY_FACTOR)))\n",
    "\n",
    "\n",
    "def get_learning_rate(t):\n",
    "    return max(MIN_LEARNING_RATE, min(0.8, 1.0 - math.log10((t+1)/DECAY_FACTOR)))\n",
    "\n",
    "\n",
    "def state_to_bucket(state):\n",
    "    bucket_indice = []\n",
    "    for i in range(len(state)):\n",
    "        if state[i] <= STATE_BOUNDS[i][0]:\n",
    "            bucket_index = 0\n",
    "        elif state[i] >= STATE_BOUNDS[i][1]:\n",
    "            bucket_index = NUM_BUCKETS[i] - 1\n",
    "        else:\n",
    "            # Mapping the state bounds to the bucket array\n",
    "            bound_width = STATE_BOUNDS[i][1] - STATE_BOUNDS[i][0]\n",
    "            offset = (NUM_BUCKETS[i]-1)*STATE_BOUNDS[i][0]/bound_width\n",
    "            scaling = (NUM_BUCKETS[i]-1)/bound_width\n",
    "            bucket_index = int(round(scaling*state[i] - offset))\n",
    "        bucket_indice.append(bucket_index)\n",
    "    return tuple(bucket_indice)\n",
    "\n",
    "\n",
    "if __name__ == \"__main__\":\n",
    "\n",
    "    # Initialize the \"maze\" environment\n",
    "    env = gym.make(\"maze-warehouse-picks-v0\")\n",
    "\n",
    "    '''\n",
    "    Defining the environment related constants\n",
    "    '''\n",
    "    # Number of discrete states (bucket) per state dimension\n",
    "    MAZE_SIZE = tuple((env.observation_space.high + np.ones(env.observation_space.shape)).astype(int))\n",
    "    NUM_BUCKETS = MAZE_SIZE  # one bucket per grid\n",
    "\n",
    "    # Number of discrete actions\n",
    "    NUM_ACTIONS = env.action_space.n  # [\"N\", \"S\", \"E\", \"W\"]\n",
    "    # Bounds for each discrete state\n",
    "    STATE_BOUNDS = list(zip(env.observation_space.low, env.observation_space.high))\n",
    "\n",
    "    '''\n",
    "    Learning related constants\n",
    "    '''\n",
    "    MIN_EXPLORE_RATE = 0.001\n",
    "    MIN_LEARNING_RATE = 0.2\n",
    "    DECAY_FACTOR = np.prod(MAZE_SIZE, dtype=float) / 10.0\n",
    "\n",
    "    '''\n",
    "    Defining the simulation related constants\n",
    "    '''\n",
    "    NUM_EPISODES = 50000\n",
    "    MAX_T = np.prod(MAZE_SIZE, dtype=int) * 100\n",
    "    STREAK_TO_END = 100\n",
    "    SOLVED_T = np.prod(MAZE_SIZE, dtype=int)\n",
    "    DEBUG_MODE = 0\n",
    "    RENDER_MAZE = True\n",
    "    ENABLE_RECORDING = False\n",
    "\n",
    "    '''\n",
    "    Creating a Q-Table for each state-action pair\n",
    "    '''\n",
    "    q_table = np.zeros(NUM_BUCKETS + (NUM_ACTIONS,), dtype=float)\n",
    "\n",
    "    '''\n",
    "    Begin simulation\n",
    "    '''\n",
    "    recording_folder = \"/tmp/maze_q_learning\"\n",
    "    \"\"\"\n",
    "    if ENABLE_RECORDING:\n",
    "        env.monitor.start(recording_folder, force=True)\n",
    "    \"\"\"\n",
    "    simulate()\n",
    "    \"\"\"\n",
    "    if ENABLE_RECORDING:\n",
    "        env.monitor.close()\n",
    "    \"\"\""
   ]
  },
  {
   "cell_type": "code",
   "execution_count": null,
   "metadata": {},
   "outputs": [],
   "source": []
  }
 ],
 "metadata": {
  "interpreter": {
   "hash": "f259db95d7638d93a61e3b7dc0a71133469df104b86708824e12ee7c1ef23d67"
  },
  "kernelspec": {
   "display_name": "Python 3.7.13 ('gym-final')",
   "language": "python",
   "name": "python3"
  },
  "language_info": {
   "codemirror_mode": {
    "name": "ipython",
    "version": 3
   },
   "file_extension": ".py",
   "mimetype": "text/x-python",
   "name": "python",
   "nbconvert_exporter": "python",
   "pygments_lexer": "ipython3",
   "version": "3.7.13"
  },
  "orig_nbformat": 4
 },
 "nbformat": 4,
 "nbformat_minor": 2
}
