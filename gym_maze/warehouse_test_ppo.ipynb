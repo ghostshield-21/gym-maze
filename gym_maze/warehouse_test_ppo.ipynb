{
 "cells": [
  {
   "cell_type": "code",
   "execution_count": 1,
   "metadata": {},
   "outputs": [
    {
     "name": "stderr",
     "output_type": "stream",
     "text": [
      "d:\\anaconda\\envs\\gym-final\\lib\\site-packages\\tqdm\\auto.py:22: TqdmWarning: IProgress not found. Please update jupyter and ipywidgets. See https://ipywidgets.readthedocs.io/en/stable/user_install.html\n",
      "  from .autonotebook import tqdm as notebook_tqdm\n"
     ]
    }
   ],
   "source": [
    "import sys\n",
    "import os\n",
    "import numpy as np\n",
    "import math\n",
    "import random\n",
    "import gym\n",
    "import gym_maze\n",
    "import time\n",
    "from stable_baselines3 import PPO, A2C\n",
    "from stable_baselines3.common.env_util import make_vec_env\n",
    "from stable_baselines3.common.evaluation import evaluate_policy"
   ]
  },
  {
   "cell_type": "code",
   "execution_count": 2,
   "metadata": {},
   "outputs": [],
   "source": [
    "time_log = int(time.time())\n",
    "models_dir = f\"models/{time_log}/\"\n",
    "log_dir = \"logs\"\n",
    "\n",
    "if not os.path.exists(models_dir):\n",
    "    os.makedirs(models_dir)\n",
    "if not os.path.exists(log_dir):\n",
    "    os.makedirs(log_dir)"
   ]
  },
  {
   "cell_type": "code",
   "execution_count": 3,
   "metadata": {},
   "outputs": [
    {
     "name": "stdout",
     "output_type": "stream",
     "text": [
      "pygame 1.9.6\n",
      "Hello from the pygame community. https://www.pygame.org/contribute.html\n",
      "version v0.1 warehouse\n",
      "Env Reseted\n",
      "Env Reseted\n",
      "Using cpu device\n"
     ]
    }
   ],
   "source": [
    "env = make_vec_env(\"maze-warehouse-picks-v0\")\n",
    "env.reset()\n",
    "model = PPO(\"MlpPolicy\", env, verbose=1, tensorboard_log=f\"./warehouse_tensorboard/{time_log}\", n_steps= 320, batch_size=64, sde_sample_freq=2 )\n",
    "# try CNN policy\n",
    "# try other policy as well\n",
    "# a larget network / custom policy network\n",
    "#model = A2C(\"MlpPolicy\", env, verbose=1, tensorboard_log=\"./warehouse_tensorboard/\", n_steps= 300, )"
   ]
  },
  {
   "cell_type": "code",
   "execution_count": 4,
   "metadata": {},
   "outputs": [
    {
     "name": "stdout",
     "output_type": "stream",
     "text": [
      "current state:\n",
      " [[ 1  0  0  0  0  0  0  0  0  0  0  0  0  0  0  0  0  0]\n",
      " [ 0  0  2  0  0  0  0  0  0  0  0  0  0  0  0  0  0  0]\n",
      " [ 0  0 -1 -1  0  0 -1 -1  0  0 -1 -1  0  0 -1 -1  0  0]\n",
      " [ 0  0 -1 -1  0  0 -1 -1  0  0 -1 -1  0  0 -1 -1  0  0]\n",
      " [ 0  0 -1 -1  0  0 -1 -1  0  0 -1 -1  0  0 -1 -1  0  0]\n",
      " [ 0  0 -1 -1  0  0 -1 -1  0  0 -1 -1  0  0 -1 -1  0  0]\n",
      " [ 0  0 -1 -1  0  0 -1 -1  0  0 -1 -1  0  0 -1 -1  0  0]\n",
      " [ 0  0 -1 -1  0  0 -1 -1  0  0 -1 -1  0  0 -1 -1  0  0]\n",
      " [ 0  0  0  0  0  0  0  0  0  0  0  0  0  0  0  0  0  0]\n",
      " [ 0  0  0  0  0  0  0  0  0  0  0  0  0  0  0  0  0  0]\n",
      " [ 0  0 -1 -1  0  0 -1 -1  0  0 -1 -1  0  0 -1 -1  0  0]\n",
      " [ 0  0 -1 -1  0  0 -1 -1  0  0 -1 -1  0  0 -1 -1  0  0]\n",
      " [ 0  0 -1 -1  0  0 -1 -1  0  0 -1 -1  0  0 -1 -1  0  0]\n",
      " [ 0  0 -1 -1  0  2 -1 -1  2  0 -1 -1  0  0 -1 -1  0  0]\n",
      " [ 0  0 -1 -1  0  0 -1 -1  0  0 -1 -1  0  0 -1 -1  0  0]\n",
      " [ 0  0 -1 -1  0  2 -1 -1  0  0 -1 -1  0  0 -1 -1  0  0]\n",
      " [ 0  0  0  0  0  0  0  0  0  0  0  0  0  0  0  0  0  0]\n",
      " [ 0  0  0  0  0  0  0  0  0  0  0  0  0  0  0  0  0  3]]\n"
     ]
    }
   ],
   "source": [
    "maze_env = env.envs[0].unwrapped\n",
    "print('current state:\\n', maze_env.state.T)"
   ]
  },
  {
   "cell_type": "code",
   "execution_count": null,
   "metadata": {},
   "outputs": [],
   "source": [
    "env.reset()\n",
    "log = env.render()"
   ]
  },
  {
   "cell_type": "code",
   "execution_count": null,
   "metadata": {},
   "outputs": [],
   "source": [
    "TIMESTEPS = 10_000\n",
    "for i in range(26):\n",
    "    log = env.render()\n",
    "    model.learn(total_timesteps=TIMESTEPS, reset_num_timesteps=False, tb_log_name=\"ppo_first_run\",  )\n",
    "    model.save(f\"{models_dir}/{TIMESTEPS*i}\")"
   ]
  },
  {
   "cell_type": "code",
   "execution_count": 11,
   "metadata": {},
   "outputs": [],
   "source": [
    "#model_path_best = './models/1654640298/110000.zip'\n",
    "#model_best = PPO.load(model_path_best, env=env)"
   ]
  },
  {
   "cell_type": "code",
   "execution_count": null,
   "metadata": {},
   "outputs": [],
   "source": [
    "\n",
    "# Enjoy trained agent\n",
    "obs = env.reset()\n",
    "\n",
    "for i in range(25000):\n",
    "    action, _states = model.predict(obs, deterministic=False)\n",
    "    obs, rewards, dones, info = env.step(action)\n",
    "\n",
    "    env.render()"
   ]
  }
 ],
 "metadata": {
  "interpreter": {
   "hash": "f259db95d7638d93a61e3b7dc0a71133469df104b86708824e12ee7c1ef23d67"
  },
  "kernelspec": {
   "display_name": "Python 3.7.13 ('gym-final')",
   "language": "python",
   "name": "python3"
  },
  "language_info": {
   "codemirror_mode": {
    "name": "ipython",
    "version": 3
   },
   "file_extension": ".py",
   "mimetype": "text/x-python",
   "name": "python",
   "nbconvert_exporter": "python",
   "pygments_lexer": "ipython3",
   "version": "3.7.13"
  },
  "orig_nbformat": 4
 },
 "nbformat": 4,
 "nbformat_minor": 2
}
